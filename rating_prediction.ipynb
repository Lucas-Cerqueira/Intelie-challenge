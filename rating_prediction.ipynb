{
 "cells": [
  {
   "cell_type": "markdown",
   "metadata": {},
   "source": [
    "## Loading the data"
   ]
  },
  {
   "cell_type": "markdown",
   "metadata": {},
   "source": [
    "#### Importing some basic libraries"
   ]
  },
  {
   "cell_type": "code",
   "execution_count": 1,
   "metadata": {},
   "outputs": [],
   "source": [
    "import pandas as pd\n",
    "import numpy as np\n",
    "import matplotlib.pyplot as plt\n",
    "import random"
   ]
  },
  {
   "cell_type": "code",
   "execution_count": 2,
   "metadata": {
    "scrolled": true
   },
   "outputs": [
    {
     "data": {
      "text/html": [
       "<div>\n",
       "<style scoped>\n",
       "    .dataframe tbody tr th:only-of-type {\n",
       "        vertical-align: middle;\n",
       "    }\n",
       "\n",
       "    .dataframe tbody tr th {\n",
       "        vertical-align: top;\n",
       "    }\n",
       "\n",
       "    .dataframe thead th {\n",
       "        text-align: right;\n",
       "    }\n",
       "</style>\n",
       "<table border=\"1\" class=\"dataframe\">\n",
       "  <thead>\n",
       "    <tr style=\"text-align: right;\">\n",
       "      <th></th>\n",
       "      <th>userId</th>\n",
       "      <th>movieId</th>\n",
       "      <th>rating</th>\n",
       "    </tr>\n",
       "  </thead>\n",
       "  <tbody>\n",
       "    <tr>\n",
       "      <th>0</th>\n",
       "      <td>1</td>\n",
       "      <td>1193</td>\n",
       "      <td>5</td>\n",
       "    </tr>\n",
       "    <tr>\n",
       "      <th>1</th>\n",
       "      <td>1</td>\n",
       "      <td>661</td>\n",
       "      <td>3</td>\n",
       "    </tr>\n",
       "    <tr>\n",
       "      <th>2</th>\n",
       "      <td>1</td>\n",
       "      <td>914</td>\n",
       "      <td>3</td>\n",
       "    </tr>\n",
       "    <tr>\n",
       "      <th>3</th>\n",
       "      <td>1</td>\n",
       "      <td>3408</td>\n",
       "      <td>4</td>\n",
       "    </tr>\n",
       "    <tr>\n",
       "      <th>4</th>\n",
       "      <td>1</td>\n",
       "      <td>2355</td>\n",
       "      <td>5</td>\n",
       "    </tr>\n",
       "  </tbody>\n",
       "</table>\n",
       "</div>"
      ],
      "text/plain": [
       "   userId  movieId  rating\n",
       "0       1     1193       5\n",
       "1       1      661       3\n",
       "2       1      914       3\n",
       "3       1     3408       4\n",
       "4       1     2355       5"
      ]
     },
     "execution_count": 2,
     "metadata": {},
     "output_type": "execute_result"
    }
   ],
   "source": [
    "datContent = [i.strip().split('::') for i in open('data/ratings.dat').readlines()]\n",
    "df = pd.DataFrame(datContent)\n",
    "df = df.apply(pd.to_numeric)\n",
    "df.columns = ['userId', 'movieId', 'rating', 'timestamp']\n",
    "df = df.drop('timestamp', axis=1) # drop the timestamp column\n",
    "df.head()"
   ]
  },
  {
   "cell_type": "markdown",
   "metadata": {},
   "source": [
    "## Quick analysis to check the data"
   ]
  },
  {
   "cell_type": "markdown",
   "metadata": {},
   "source": [
    "#### Ratings ranging from 1 to 5, as expected."
   ]
  },
  {
   "cell_type": "code",
   "execution_count": 3,
   "metadata": {},
   "outputs": [
    {
     "data": {
      "text/plain": [
       "array([5, 3, 4, 2, 1])"
      ]
     },
     "execution_count": 3,
     "metadata": {},
     "output_type": "execute_result"
    }
   ],
   "source": [
    "df['rating'].unique()"
   ]
  },
  {
   "cell_type": "markdown",
   "metadata": {},
   "source": [
    "#### Total of 6040 differente users."
   ]
  },
  {
   "cell_type": "code",
   "execution_count": 4,
   "metadata": {},
   "outputs": [
    {
     "name": "stdout",
     "output_type": "stream",
     "text": [
      "6040\n"
     ]
    }
   ],
   "source": [
    "n_users = len(df['userId'].unique())\n",
    "print(n_users)"
   ]
  },
  {
   "cell_type": "markdown",
   "metadata": {},
   "source": [
    "#### Total of 3706 differente movies."
   ]
  },
  {
   "cell_type": "code",
   "execution_count": 5,
   "metadata": {},
   "outputs": [
    {
     "name": "stdout",
     "output_type": "stream",
     "text": [
      "3706\n"
     ]
    }
   ],
   "source": [
    "n_movies= len(df['movieId'].unique())\n",
    "print(n_movies)"
   ]
  },
  {
   "cell_type": "markdown",
   "metadata": {},
   "source": [
    "#### Approximately one million ratings, which means that only some movies were rated by each user.\n",
    "It leads to a sparsity of more than 95.5% (rate between the amount of missing ratings and the maximum possible amount)."
   ]
  },
  {
   "cell_type": "code",
   "execution_count": 6,
   "metadata": {},
   "outputs": [
    {
     "name": "stdout",
     "output_type": "stream",
     "text": [
      "1000209\n",
      "0.9553163743776871\n"
     ]
    }
   ],
   "source": [
    "n_ratings = len(df)\n",
    "print(n_ratings)\n",
    "print(1 - float(n_ratings)/(n_users*n_movies))"
   ]
  },
  {
   "cell_type": "markdown",
   "metadata": {},
   "source": [
    "#### Checking if a user have rated a movie more than once\n",
    "The answer is no, so there is no need to handle a user changing its opinion over time."
   ]
  },
  {
   "cell_type": "code",
   "execution_count": 7,
   "metadata": {},
   "outputs": [
    {
     "data": {
      "text/plain": [
       "rating    1\n",
       "dtype: int64"
      ]
     },
     "execution_count": 7,
     "metadata": {},
     "output_type": "execute_result"
    }
   ],
   "source": [
    "df.groupby(['userId', 'movieId']).count().max()"
   ]
  },
  {
   "cell_type": "markdown",
   "metadata": {},
   "source": [
    "#### Histogram of the amount of ratings per user, with a minimum of 20 and maximum of 2314. \n",
    "It is possible to see that most of the users have rated less than 200 movies."
   ]
  },
  {
   "cell_type": "code",
   "execution_count": 8,
   "metadata": {
    "scrolled": false
   },
   "outputs": [
    {
     "data": {
      "text/plain": [
       "Text(0, 0.5, 'Frequency')"
      ]
     },
     "execution_count": 8,
     "metadata": {},
     "output_type": "execute_result"
    },
    {
     "data": {
      "image/png": "[encoded data removed]",
      "text/plain": [
       "<Figure size 576x432 with 1 Axes>"
      ]
     },
     "metadata": {
      "needs_background": "light"
     },
     "output_type": "display_data"
    }
   ],
   "source": [
    "ax = df.groupby('userId').count()['rating'].hist(bins=20, figsize=(8, 6))\n",
    "ax.set_xlabel('Amount of ratings')\n",
    "ax.set_ylabel('Frequency')"
   ]
  },
  {
   "cell_type": "markdown",
   "metadata": {},
   "source": [
    "#### Histogram of ratings values. \n",
    "It shows a tendency of the users to rate 3 or higher rather than 1 or 2."
   ]
  },
  {
   "cell_type": "code",
   "execution_count": 9,
   "metadata": {},
   "outputs": [
    {
     "data": {
      "text/plain": [
       "Text(0, 0.5, 'Frequency')"
      ]
     },
     "execution_count": 9,
     "metadata": {},
     "output_type": "execute_result"
    },
    {
     "data": {
      "image/png": "[encoded data removed]",
      "text/plain": [
       "<Figure size 576x432 with 1 Axes>"
      ]
     },
     "metadata": {
      "needs_background": "light"
     },
     "output_type": "display_data"
    }
   ],
   "source": [
    "ax = df['rating'].hist(bins=20, figsize=(8, 6))\n",
    "ax.set_xlabel('Rating')\n",
    "ax.set_ylabel('Frequency')"
   ]
  },
  {
   "cell_type": "markdown",
   "metadata": {},
   "source": [
    "## Collaborative Filtering\n",
    "Before this challenge, I hadn't heard about collaborative filtering (CF) because I have never worked with recommendation systems. I enjoyed learning about it and I spent the first day doing some research on the techniques and algorithms used for collaborative filtering and also how it is used in similar applications.\n",
    "\n",
    "During my research, I discovered an open competition that happened from 2006 to 2009 and was held by Netflix. The goal was to improve the recommendation algorithm that Netflix was using back then, called Cinematch. The dataset provided for the competition was sort of similar to MovieLens, with ratings from 1 to 5 and a high sparsity (88.27%), but less sparse than MovieLens' dataset.\n",
    "\n",
    "### Matrix factorization\n",
    "\n",
    "In this competition, matrix factorization techniques showed great results. They work by decomposing the user-movie matrix into the product of two smaller matrices (an important dimensionality reduction) and these two new matrices store latent factors of the users and the movies. The first competitor who used this method for the Netflix prize was Simon Funk (he shared it in a [blog post](https://sifter.org/~simon/journal/20061211.html)), where he proposes an incremental SVD (Singular-value decomposition), i.e. he obtained the two smaller matrices by using stochastic gradient descent (SGD) to minimize the mean squared error between the real rating and the estimated one. The rating of a user $X$ for a movie $Y$ is the dot product between the row $X$ in user latent factor matrix and the column $Y$ of the movie latent factor matrix.\n",
    "\n",
    "While searching for an implementation of these techniques in Python to save some time, I found the package called Surprise ([https://github.com/NicolasHug/Surprise](https://github.com/NicolasHug/Surprise)). It provides matrix-factorization algorithms, such as SVD, [SVD++](https://www.cs.rochester.edu/twiki/pub/Main/HarpSeminar/Factorization_Meets_the_Neighborhood-_a_Multifaceted_Collaborative_Filtering_Model.pdf) (takes into account an implicit feedback) and [NMF](https://en.wikipedia.org/wiki/Non-negative_matrix_factorization), and also $k$-nearest neighbors (k-NN) methods, that are based on similarity metrics. One limitation of this package that I found is that the loss function used in the algorithms seems to always be the SGD. From what I found on my research, Alternating Least Squares (ALS) have also been used as an alternative to the SGD in matrix factorization methods.\n",
    "\n",
    "Due to the high sparsity of the dataset, the matrix factorization techniques may achieve a better performance than the neighborhood techniques. This result is verified with the code bellow, but keeping in mind that the hyperparameters values were the default, so this result may vary. I decided not to include the SVD++ results because it was taking much longer than the regular SVD, more than 30 times longer."
   ]
  },
  {
   "cell_type": "markdown",
   "metadata": {},
   "source": [
    "#### Import Surprise classes and methods"
   ]
  },
  {
   "cell_type": "code",
   "execution_count": 10,
   "metadata": {},
   "outputs": [],
   "source": [
    "from surprise.model_selection import cross_validate\n",
    "from surprise.model_selection import KFold\n",
    "from surprise.model_selection import GridSearchCV\n",
    "from surprise import Dataset\n",
    "from surprise import Reader\n",
    "\n",
    "from surprise import KNNBasic\n",
    "from surprise import KNNWithMeans\n",
    "from surprise import KNNBaseline\n",
    "from surprise import SVD\n",
    "from surprise import SVDpp\n",
    "from surprise import NMF"
   ]
  },
  {
   "cell_type": "markdown",
   "metadata": {},
   "source": [
    "#### Running the SVD technique"
   ]
  },
  {
   "cell_type": "code",
   "execution_count": 16,
   "metadata": {
    "scrolled": false
   },
   "outputs": [
    {
     "name": "stdout",
     "output_type": "stream",
     "text": [
      "Evaluating RMSE, MAE of algorithm SVD on 5 split(s).\n",
      "\n",
      "                  Fold 1  Fold 2  Fold 3  Fold 4  Fold 5  Mean    Std     \n",
      "RMSE (testset)    0.8721  0.8702  0.8753  0.8738  0.8761  0.8735  0.0022  \n",
      "MAE (testset)     0.6845  0.6840  0.6873  0.6863  0.6871  0.6858  0.0013  \n",
      "Fit time          48.21   51.49   51.64   48.04   43.40   48.55   3.00    \n",
      "Test time         3.11    2.89    2.53    2.41    2.26    2.64    0.31    \n",
      "Evaluating RMSE, MAE of algorithm NMF on 5 split(s).\n",
      "\n",
      "                  Fold 1  Fold 2  Fold 3  Fold 4  Fold 5  Mean    Std     \n",
      "RMSE (testset)    0.9173  0.9154  0.9182  0.9177  0.9155  0.9168  0.0011  \n",
      "MAE (testset)     0.7247  0.7239  0.7256  0.7251  0.7227  0.7244  0.0010  \n",
      "Fit time          45.69   48.60   48.23   45.02   43.08   46.12   2.06    \n",
      "Test time         2.44    2.60    2.21    2.18    2.16    2.32    0.17    \n",
      "Evaluating RMSE, MAE of algorithm KNNBasic on 5 split(s).\n",
      "\n",
      "                  Fold 1  Fold 2  Fold 3  Fold 4  Fold 5  Mean    Std     \n",
      "RMSE (testset)    0.9221  0.9192  0.9242  0.9239  0.9248  0.9229  0.0020  \n",
      "MAE (testset)     0.7267  0.7255  0.7285  0.7286  0.7276  0.7274  0.0012  \n",
      "Fit time          16.63   19.47   23.53   32.83   33.34   25.16   6.83    \n",
      "Test time         115.96  121.91  117.98  110.10  101.22  113.44  7.20    \n"
     ]
    }
   ],
   "source": [
    "# Fix the seed\n",
    "seed = 0\n",
    "np.random.seed(seed)\n",
    "random.seed(seed)\n",
    "\n",
    "# Instantiate a Reader, setting the rating scale from 1 to 5\n",
    "reader = Reader(rating_scale=(1, 5))\n",
    "\n",
    "# Reading from the DataFrame, the columns must correspond to user id, movie id\n",
    "# and ratings (in this order).\n",
    "data = Dataset.load_from_df(df[['userId', 'movieId', 'rating']], reader)\n",
    "\n",
    "# Using KFold cross validation, where 1 fold is used as a testset and the\n",
    "# remaining folds are used for training. With 5 folds, 20% of the dataset\n",
    "# is used for testing.\n",
    "n_folds = 5\n",
    "kf = KFold(n_splits=n_folds, random_state=seed)\n",
    "\n",
    "# Testing multiple algorithms, including matrix factorization\n",
    "# methods and neighborhood models.\n",
    "models = [SVD(), NMF(), KNNBasic()]\n",
    "for model in models:\n",
    "    # Run 5-fold cross-validation and print results\n",
    "    cross_validate(model, data, measures=['RMSE', 'MAE'], cv=kf, n_jobs=-1, verbose=True)"
   ]
  },
  {
   "cell_type": "markdown",
   "metadata": {},
   "source": [
    "### Grid searching hyperparameters\n",
    "In the previous test with SVD, NMF and k-NN, the SVD achieved the best performance with a mean RMSE of $0.8735$ and a mean MAE of $0.6858$ across the folds. I decided to try a small grid search on the SVD hyperparameters to see how much better it can get. Below I list the values that I tried for each parameter, highlighting the default values in bold:\n",
    "\n",
    "- `n_epochs` (amount of epochs): <b>20</b>, 30\n",
    "- `n_factors` (amount of latent factors): 50, <b>100</b>, 200, 300\n",
    "- `lr_all` (learning rate): 0.002, <b>0.005</b>"
   ]
  },
  {
   "cell_type": "code",
   "execution_count": null,
   "metadata": {
    "scrolled": false
   },
   "outputs": [],
   "source": [
    "# Fix the seed\n",
    "seed = 0\n",
    "np.random.seed(seed)\n",
    "random.seed(seed)\n",
    "\n",
    "# Instantiate a Reader, setting the rating scale from 1 to 5\n",
    "reader = Reader(rating_scale=(1, 5))\n",
    "\n",
    "# Reading from the DataFrame, the columns must correspond to user id, movie id\n",
    "# and ratings (in this order).\n",
    "data = Dataset.load_from_df(df[['userId', 'movieId', 'rating']], reader)\n",
    "\n",
    "# Using KFold cross validation, where 1 fold is used as a testset and the\n",
    "# remaining folds are used for training. With 5 folds, 20% of the dataset\n",
    "# is used for testing.\n",
    "n_folds = 5\n",
    "kf = KFold(n_splits=n_folds, random_state=seed)\n",
    "\n",
    "param_grid = {'n_epochs': [20, 30], 'n_factors': [50, 100, 200, 300], 'lr_all': [0.002, 0.005]}\n",
    "gs = GridSearchCV(SVD, param_grid, measures=['rmse', 'mae'], cv=kf, n_jobs=-1)\n",
    "\n",
    "gs.fit(data)"
   ]
  },
  {
   "cell_type": "markdown",
   "metadata": {},
   "source": [
    "The best set of parameters for the SVD matrix factorization is listed below. The only parameter that is different from the default value is `n_factors`, where 50 latent factors resulted in smaller mean RMSE and mean MAE across the folds when compared to the default value of 100 factors.\n",
    "\n",
    "- `n_epochs`: 20\n",
    "- `n_factors`: 50\n",
    "- `lr_all`: 0.005\n",
    "\n",
    "The mean RMSE achieved using these parameters is approximately $0.8706$, slightly smaller than when the default parameters were used."
   ]
  },
  {
   "cell_type": "code",
   "execution_count": 26,
   "metadata": {
    "scrolled": false
   },
   "outputs": [
    {
     "name": "stdout",
     "output_type": "stream",
     "text": [
      "Best set of parameters: {'n_epochs': 20, 'n_factors': 50, 'lr_all': 0.005}\n",
      "Mean RMSE with the optimal parameters: 0.8706240913919906\n",
      "Mean MAE with the optimal parameters: 0.683606627957602\n"
     ]
    }
   ],
   "source": [
    "print(\"Best set of parameters: \" + str(gs.best_params['rmse']))\n",
    "print(\"Mean RMSE with the optimal parameters: \" + str(gs.best_score['rmse']))\n",
    "print(\"Mean MAE with the optimal parameters: \" + str(gs.best_score['mae']))"
   ]
  },
  {
   "cell_type": "markdown",
   "metadata": {},
   "source": [
    "### Neural network approach using embedding layers\n",
    "Following the same principles discussed before for matrix factorization, embedding layers can be used to reduce the dimensionality and to extract latent information about the users and the movies. The users and movie ids, that are categorical values, are turned into embedded vectors that can be used as the input of a neural network.\n",
    "\n",
    "In order to implement the model, I use my two favorite libraries called [scikit-learn](https://scikit-learn.org/), that has some very useful utilities and basic models, and [Keras](https://keras.io/). Keras works as an API for either Theano or Tensorflow backend and it has the implementation of many different Machine Learning techniques, such as a variety of activation functions, weight initializations, regularizers, optimization functions, batch normalization, embedding layers, convolutional layers and so on.\n",
    "\n",
    "I tried solving the challenge either as a classification and a regression problem, but regression showed to be the best option. The model that I propose consists of two embeddings layers, one for the users and the other for the movies, that are concatenated and fed to a 50 neurons hidden layer. This hidden layer uses ReLU as its activation functions, that avoids vanishing gradients and generates a sparse representation because some neurons may be deactivated. I used the He initialization, that takes in account the size of the previous layer, to improve the weights convergence. I also added a L2 regularizer, that penalizes big weight values, because the network was overfitting very easily. I used batch normalization to make the convergence quicker and more stable. In order to prevent overfitting as well, I added a dropout that can be tuned.\n",
    "\n",
    "The output layer has a single neuron with a linear activation function. The loss function that I used was the mean squared error (MSE), which makes the gradient larger when the loss function is larger and the gradient gets smaller as the error decreases, leading to a more precise convergence, but it is less robuts to outliers. I used the Adam optimizer to update the weights and bias in the network, that has adaptive learning rate and momentum for each parameter and it is widely used.\n",
    "\n",
    "Regarding the hyperparameter tuning, I tuned the dropout value, the learning rate and the size of the embedding layer. As I used batch normalization and L2 regularization on the weights, I managed to use a small dropout, 20%. I tweaked the Adam learning rate a bit, but the default value of 0.001 seems to the best one. To choose the embedding layer size, I used a rule of thumb, described in [a post on Google Developers blog](https://developers.googleblog.com/2017/11/introducing-tensorflow-feature-columns.html), where the amount of features of the embedding layer should be the 4th root of its dictionary size. As the maximum user id is 6040 and the maximum movie id is 3952, I chose to use 8 features on both embedding layers.\n",
    "\n",
    "\\begin{equation}\n",
    "\\sqrt[4]{6040} \\approx 8.8 \\\\\n",
    "\\sqrt[4]{3952} \\approx 7.9\n",
    "\\end{equation}"
   ]
  },
  {
   "cell_type": "markdown",
   "metadata": {},
   "source": [
    "#### Importing Keras and scikit-learn classes and methods"
   ]
  },
  {
   "cell_type": "code",
   "execution_count": 13,
   "metadata": {
    "scrolled": false
   },
   "outputs": [
    {
     "name": "stderr",
     "output_type": "stream",
     "text": [
      "Using TensorFlow backend.\n"
     ]
    }
   ],
   "source": [
    "from keras import Model\n",
    "\n",
    "from keras.layers import Embedding, Flatten, Concatenate\n",
    "from keras.layers import Input, Dropout, Dense\n",
    "from keras.layers.normalization import BatchNormalization\n",
    "from keras.callbacks import EarlyStopping, ModelCheckpoint\n",
    "from keras.regularizers import l2\n",
    "from keras.initializers import he_normal\n",
    "from keras.models import load_model\n",
    "\n",
    "from sklearn.model_selection import KFold, train_test_split\n",
    "from sklearn.metrics import mean_squared_error\n",
    "from sklearn.metrics import mean_absolute_error\n",
    "from sklearn.metrics import accuracy_score, balanced_accuracy_score\n",
    "from sklearn.metrics import confusion_matrix\n",
    "from sklearn import preprocessing"
   ]
  },
  {
   "cell_type": "markdown",
   "metadata": {},
   "source": [
    "#### Defining the model architecture\n",
    "Model with tunable embedding layer size and dropout."
   ]
  },
  {
   "cell_type": "code",
   "execution_count": 14,
   "metadata": {},
   "outputs": [],
   "source": [
    "def EmbeddingMLPModel(max_users, max_movies, n_factors, dropout=0, seed=None):\n",
    "    \n",
    "    user_input = Input(shape=[1], name='user')\n",
    "    movie_input = Input(shape=[1], name='movie')\n",
    "\n",
    "    user_embedding = Embedding(max_users + 1, n_factors, input_length=1)(user_input)\n",
    "    movie_embedding = Embedding(max_movies + 1, n_factors, input_length=1)(movie_input)\n",
    "\n",
    "    user_vec = Flatten()(user_embedding)\n",
    "    \n",
    "    movie_vec = Flatten()(movie_embedding)\n",
    "\n",
    "    y = Concatenate()([user_vec, movie_vec])\n",
    "    y = Dense(50, activation='relu', \n",
    "              kernel_regularizer=l2(0.001), \n",
    "              kernel_initializer=he_normal(seed=seed))(y)\n",
    "    y = BatchNormalization()(y)\n",
    "    y = Dropout(rate=dropout)(y)\n",
    "    y = Dense(1, activation='linear')(y)\n",
    "    \n",
    "    return Model([user_input, movie_input], y)"
   ]
  },
  {
   "cell_type": "markdown",
   "metadata": {},
   "source": [
    "#### Training step\n",
    "Splitting the dataset into train (80%) and test (20%), using the test set to early stop the training, avoidding an overfit. I used another Keras callback to save only the model with the lowest validation loss."
   ]
  },
  {
   "cell_type": "code",
   "execution_count": null,
   "metadata": {
    "scrolled": true
   },
   "outputs": [],
   "source": [
    "# Fixed seed\n",
    "seed = 0\n",
    "np.random.seed(seed)\n",
    "random.seed(seed)\n",
    "\n",
    "# Model parameters\n",
    "n_factors = 8\n",
    "dropout = 0.2\n",
    "\n",
    "# Getting the maximum user id and movie id\n",
    "n_users = max(df['userId'])\n",
    "n_movies = max(df['movieId'])\n",
    "\n",
    "# Separating input and target variables from the DataFrame\n",
    "X = df[['userId', 'movieId']].values\n",
    "y = df['rating'].values.reshape(-1, 1)\n",
    "\n",
    "# Splitting into training and test set\n",
    "X_train, X_test, y_train, y_test = train_test_split(X, y, test_size=0.2, random_state=seed)\n",
    "\n",
    "# Configuring early stopping and checkpoint callbacks\n",
    "callbacks = [EarlyStopping('val_loss', patience=5),\n",
    "             ModelCheckpoint('best_model.hdf5', save_best_only=True, monitor='val_loss', mode='min')]\n",
    "\n",
    "# Creating the model\n",
    "model = EmbeddingMLPModel(n_users, n_movies, n_factors, dropout, seed)\n",
    "\n",
    "# Compiling the model\n",
    "model.compile(loss='mse', optimizer='adam')\n",
    "\n",
    "# Fitting the model for up to 100 epochs\n",
    "history = model.fit([X_train[:, 0], X_train[:, 1]], y_train, callbacks=callbacks,\n",
    "                    validation_data=([X_test[:, 0], X_test[:, 1]], y_test), \n",
    "                    epochs=100, batch_size=128, verbose=0)"
   ]
  },
  {
   "cell_type": "markdown",
   "metadata": {},
   "source": [
    "#### Evaluate the RMSE and MAE on the training and test sets using the best saved model"
   ]
  },
  {
   "cell_type": "code",
   "execution_count": 16,
   "metadata": {},
   "outputs": [
    {
     "name": "stdout",
     "output_type": "stream",
     "text": [
      "Rating RMSE (train): 0.8096\n",
      "Rating MAE (train): 0.6345\n",
      "\n",
      "Rating RMSE (test): 0.8666\n",
      "Rating MAE (test): 0.6799\n"
     ]
    }
   ],
   "source": [
    "best_model = load_model('best_model.hdf5')\n",
    "\n",
    "# Train set evaluation\n",
    "yhat_train = best_model.predict([X_train[:, 0], X_train[:, 1]])\n",
    "print('Rating RMSE (train): %.4f' % np.sqrt(mean_squared_error (y_train, yhat_train)))\n",
    "print('Rating MAE (train): %.4f' % mean_absolute_error (y_train, yhat_train))\n",
    "\n",
    "# Test set evaluation\n",
    "yhat_test = best_model.predict([X_test[:, 0], X_test[:, 1]])\n",
    "print('')\n",
    "print('Rating RMSE (test): %.4f' % np.sqrt(mean_squared_error (y_test, yhat_test)))\n",
    "print('Rating MAE (test): %.4f' % mean_absolute_error (y_test, yhat_test))"
   ]
  },
  {
   "cell_type": "markdown",
   "metadata": {},
   "source": [
    "#### Checking the loss function during the epochs to detect overfitting"
   ]
  },
  {
   "cell_type": "code",
   "execution_count": 34,
   "metadata": {},
   "outputs": [
    {
     "data": {
      "text/plain": [
       "Text(0.5, 1.0, 'Loss function values during the training step')"
      ]
     },
     "execution_count": 34,
     "metadata": {},
     "output_type": "execute_result"
    },
    {
     "data": {
      "image/png": "[encoded data removed]",
      "text/plain": [
       "<Figure size 864x576 with 1 Axes>"
      ]
     },
     "metadata": {
      "needs_background": "light"
     },
     "output_type": "display_data"
    }
   ],
   "source": [
    "fontsize = 15\n",
    "\n",
    "min_val_loss = np.min(history.history['val_loss'])\n",
    "min_val_loss_epoch = np.argmin(history.history['val_loss']) + 1\n",
    "\n",
    "epochs_range = range(1, len(history.history['loss']) + 1)\n",
    "\n",
    "plt.figure(figsize=(12, 8))\n",
    "plt.plot(epochs_range, history.history['loss'])\n",
    "plt.plot(epochs_range, history.history['val_loss'])\n",
    "\n",
    "plt.plot(min_val_loss_epoch, min_val_loss, marker='o', markersize=3, color=\"black\")\n",
    "\n",
    "plt.legend(['Train set MSE', 'Validation set MSE', 'Lowest validation MSE (0.7547)'], fontsize=fontsize)\n",
    "plt.ylabel('MSE', fontsize=fontsize)\n",
    "plt.xlabel('# Epoch', fontsize=fontsize)\n",
    "plt.title('Loss function values during the training step', fontsize=fontsize)"
   ]
  },
  {
   "cell_type": "markdown",
   "metadata": {},
   "source": [
    "### Conclusion\n",
    "\n",
    "The challenge goal was to propose a neural network model capable of predicting user ratings to a set of movies. A dataset was provided with around a million ratings of 3706 movies rated by 6040 users. The dataset is very sparse and ratings of 3, 4 and 5 are far more common than 1 and 2 ratings. \n",
    "\n",
    "First, I showed a known technique based on SVD matrix factorization that got very famouns during the Netflix prize. I achieved a RMSE of 0.8706 and a MAE equal to 0.6836, approximately, after a grid search of some parameters using this method.\n",
    "\n",
    "Second, I propose my solution to the challenge using two embedding layers connected to a hidden layer, which is connected to the output layer, treating the problem as a regression. I tested solving this as a classification problem with each rating being a target class, but the dataset is very imbalanced, as mentioned before. With some hyperparameters tuning, I managed to achieve, using the test set, a RMSE of 0.8666 and a MAE equal to 0.6799, a better result than the one I obtained using the SVD method.\n",
    "\n",
    "The neural network method has some downsides, though. Depending on the network complexity, the training process and the hyperparameters tuning can be very costly. In addition to that, if new users or new movies are added, the model must be retrained in order to have an embedded representation of the new inputs."
   ]
  }
 ],
 "metadata": {
  "kernelspec": {
   "display_name": "Python 3",
   "language": "python",
   "name": "python3"
  },
  "language_info": {
   "codemirror_mode": {
    "name": "ipython",
    "version": 3
   },
   "file_extension": ".py",
   "mimetype": "text/x-python",
   "name": "python",
   "nbconvert_exporter": "python",
   "pygments_lexer": "ipython3",
   "version": "3.6.7"
  }
 },
 "nbformat": 4,
 "nbformat_minor": 2
}
